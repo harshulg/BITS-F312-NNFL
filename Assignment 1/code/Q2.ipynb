{
  "nbformat": 4,
  "nbformat_minor": 0,
  "metadata": {
    "colab": {
      "name": "Q2.ipynb",
      "provenance": [],
      "collapsed_sections": []
    },
    "kernelspec": {
      "name": "python3",
      "display_name": "Python 3"
    },
    "language_info": {
      "name": "python"
    }
  },
  "cells": [
    {
      "cell_type": "code",
      "metadata": {
        "id": "OXG_62RC9SU4"
      },
      "source": [
        "import math \n",
        "import numpy as np\n",
        "import pandas as pd\n",
        "import matplotlib.pyplot as plt\n",
        "from mpl_toolkits.mplot3d import Axes3D\n"
      ],
      "execution_count": 1,
      "outputs": []
    },
    {
      "cell_type": "code",
      "metadata": {
        "colab": {
          "resources": {
            "http://localhost:8080/nbextensions/google.colab/files.js": {
              "data": "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",
              "ok": true,
              "headers": [
                [
                  "content-type",
                  "application/javascript"
                ]
              ],
              "status": 200,
              "status_text": ""
            }
          },
          "base_uri": "https://localhost:8080/",
          "height": 73
        },
        "id": "vsuw8-Ie9XKK",
        "outputId": "67c3af1e-3a39-4640-f3a0-53bb93ff30dd"
      },
      "source": [
        "from google.colab import files\n",
        "uploaded = files.upload()"
      ],
      "execution_count": 2,
      "outputs": [
        {
          "output_type": "display_data",
          "data": {
            "text/html": [
              "\n",
              "     <input type=\"file\" id=\"files-f8f19b8c-eb39-48b2-ac5a-1ef3d9c925af\" name=\"files[]\" multiple disabled\n",
              "        style=\"border:none\" />\n",
              "     <output id=\"result-f8f19b8c-eb39-48b2-ac5a-1ef3d9c925af\">\n",
              "      Upload widget is only available when the cell has been executed in the\n",
              "      current browser session. Please rerun this cell to enable.\n",
              "      </output>\n",
              "      <script src=\"/nbextensions/google.colab/files.js\"></script> "
            ],
            "text/plain": [
              "<IPython.core.display.HTML object>"
            ]
          },
          "metadata": {}
        },
        {
          "output_type": "stream",
          "name": "stdout",
          "text": [
            "Saving data_q2_q3.xlsx to data_q2_q3.xlsx\n"
          ]
        }
      ]
    },
    {
      "cell_type": "code",
      "metadata": {
        "id": "ysAZfBWvStwn"
      },
      "source": [
        "#linear regression with the L2-norm regularization (Ridge regression)\n",
        "#approach using BGD, SGD, and MBGD algorithms."
      ],
      "execution_count": 3,
      "outputs": []
    },
    {
      "cell_type": "code",
      "metadata": {
        "id": "Q6fP8yV0-Ctj"
      },
      "source": [
        "def cost_function(X,y,w,reg):        ###define·cost·function·\n",
        "    hypothesis = np.dot(X,w.T)   ###calculation·of·hypothesis·for·all·instances···\n",
        "    J = (1/(2*len(y))) * np.sum((hypothesis - y)**2) + (reg/2)*np.sum(np.square(w))\n",
        "    return J"
      ],
      "execution_count": 4,
      "outputs": []
    },
    {
      "cell_type": "code",
      "metadata": {
        "id": "fJHe-Uqq-G07"
      },
      "source": [
        "def batch_gradient_descent(X,y,w,alpha,reg,iters):\n",
        "  \n",
        "  cost_history = np.zeros(iters) # cost function for each iteration\n",
        "  \n",
        "  #initalize our cost history list to store the cost function on every iteration\n",
        "  \n",
        "  for i in range(iters):\n",
        "    \n",
        "    hypothesis = np.dot(X,w.T)\n",
        "    w = w*(1-alpha*reg) - (alpha/len(y)) * np.dot((hypothesis-y), X)\n",
        "    cost_history[i] = cost_function(X,y,w,reg)\n",
        "\n",
        "  return w,cost_history"
      ],
      "execution_count": 5,
      "outputs": []
    },
    {
      "cell_type": "code",
      "metadata": {
        "id": "8xsqNLHr-LBa"
      },
      "source": [
        "def stochastic_gradient_descent(X,y,w,alpha,reg, iters):\n",
        "  \n",
        "  cost_history = np.zeros(iters)\n",
        " \n",
        "  for i in range(iters):\n",
        "    \n",
        "    rand_index = np.random.randint(len(y))\n",
        "    ind_x = X[rand_index:rand_index+1]\n",
        "    ind_y = y[rand_index:rand_index+1]\n",
        "    w = w*(1-alpha*reg) - alpha * (ind_x.T.dot(ind_x.dot(w) - ind_y))\n",
        "    cost = cost_function(ind_x,ind_y,w,reg)\n",
        "  \n",
        "  return w, cost"
      ],
      "execution_count": 18,
      "outputs": []
    },
    {
      "cell_type": "code",
      "metadata": {
        "id": "kpznQZTj-OEr"
      },
      "source": [
        "def MB_gradient_descent(X,y,w,alpha, iters, reg,batch_size):\n",
        "  cost_history = np.zeros(iters)\n",
        "  for i in range(iters):\n",
        "    rand_index = np.random.randint(len(y))\n",
        "    ind_x = X[rand_index:rand_index+batch_size]\n",
        "    ind_y = y[rand_index:rand_index+batch_size]\n",
        "    w = w*(1-alpha*reg) - (alpha/batch_size) * (ind_x.T.dot(ind_x.dot(w) - ind_y))\n",
        "    cost = cost_function(ind_x,ind_y,w)\n",
        "  \n",
        "  return w, cost"
      ],
      "execution_count": 23,
      "outputs": []
    },
    {
      "cell_type": "code",
      "metadata": {
        "id": "kbW5dnjAxV7l"
      },
      "source": [
        "# A function to implement min-max normalization\n",
        "\n",
        "def norm(datan):\n",
        "  data_min = np.min(datan, axis = 0)\n",
        "  data_max = np.max(datan, axis = 0)\n",
        "  datan = (datan- data_min)/(data_max-data_min)\n",
        "  return datan\n"
      ],
      "execution_count": 8,
      "outputs": []
    },
    {
      "cell_type": "code",
      "metadata": {
        "id": "-PmjDfjAzIAF"
      },
      "source": [
        "data = pd.read_excel(uploaded['data_q2_q3.xlsx'])"
      ],
      "execution_count": 9,
      "outputs": []
    },
    {
      "cell_type": "code",
      "metadata": {
        "id": "tLnR5hKJWQJl"
      },
      "source": [
        ""
      ],
      "execution_count": 9,
      "outputs": []
    },
    {
      "cell_type": "code",
      "metadata": {
        "id": "PTnv79JnSQOI"
      },
      "source": [
        "#test_train_validaion_split\n",
        "\n",
        "data = norm(data) #all features of data are now normalized\n",
        "\n",
        "df = data.sample(len(data)) #randomized data frame\n",
        "df = df.values\n",
        "train_len = int(0.7 * len(data))\n",
        "\n",
        "test_len = int(0.2 * len(data))\n",
        "\n",
        "X_train = df[0: train_len,[0,1,2,3]]                      #train\n",
        "X_test = df[train_len: train_len+test_len,[0,1,2,3]]     #test\n",
        "X_vald = df[train_len+test_len:,[0,1,2,3]]                 #validation\n",
        "l = len(X_train)\n",
        "m = len(X_test)\n",
        "n = len(X_vald) \n",
        "X_train = np.append(np.ones([l, 1]),X_train, axis=1) #Column of ones\n",
        "X_test = np.append(np.ones([m, 1]),X_test, axis=1) #Column of ones\n",
        "X_vald = np.append(np.ones([n, 1]),X_vald, axis=1) #Column of ones\n",
        "\n",
        "y_train = df[0: train_len,4]                    #train\n",
        "y_test = df[train_len: train_len+test_len,4]     #test\n",
        "y_vald = df[train_len+test_len:,4]               #validation"
      ],
      "execution_count": 10,
      "outputs": []
    },
    {
      "cell_type": "code",
      "metadata": {
        "colab": {
          "base_uri": "https://localhost:8080/"
        },
        "id": "u73p7ULD8Two",
        "outputId": "0eaf7b3c-4ac2-4bc4-9d94-220c94edd1de"
      },
      "source": [
        "X_train.shape[1]"
      ],
      "execution_count": 11,
      "outputs": [
        {
          "output_type": "execute_result",
          "data": {
            "text/plain": [
              "5"
            ]
          },
          "metadata": {},
          "execution_count": 11
        }
      ]
    },
    {
      "cell_type": "code",
      "metadata": {
        "colab": {
          "base_uri": "https://localhost:8080/"
        },
        "id": "MSjyXgigEcQC",
        "outputId": "396d0282-7f28-412e-beb8-2efad050c1bc"
      },
      "source": [
        "iters=500\n",
        "#grid search\n",
        "alpha_vals=np.linspace(0.0001,0.001,100)\n",
        "reg_vals=np.linspace(0.1,1,10)\n",
        "train_errors = []\n",
        "W_values = []\n",
        "i=0\n",
        "for alpha in alpha_vals:\n",
        "  for reg in reg_vals:\n",
        "    w= np.zeros((5))\n",
        "    batch_w,j_his = batch_gradient_descent(X_train,y_train,w,alpha,reg,iters)\n",
        "    train_errors.append(j_his[iters -1])\n",
        "    W_values.append(batch_w)\n",
        "    i = i+1 \n",
        "\n",
        "#best model\n",
        "min_index = 0\n",
        "for i in range(len(train_errors)):\n",
        "  if(train_errors[i] < train_errors[min_index]):\n",
        "    min_index = i\n",
        "\n",
        "print(min_index)\n",
        "print( 'optimal w values',W_values[min_index])"
      ],
      "execution_count": 12,
      "outputs": [
        {
          "output_type": "stream",
          "name": "stdout",
          "text": [
            "990\n",
            "[0.22491164 0.1602437  0.10383832 0.1062071  0.09526949]\n"
          ]
        }
      ]
    },
    {
      "cell_type": "code",
      "metadata": {
        "id": "EMXYpuMmerGH"
      },
      "source": [
        "W_min = W_values[min_index]"
      ],
      "execution_count": 13,
      "outputs": []
    },
    {
      "cell_type": "code",
      "metadata": {
        "id": "-r8x903T96i-",
        "colab": {
          "base_uri": "https://localhost:8080/"
        },
        "outputId": "bcf7933d-356c-414a-d7d7-27f13df8c709"
      },
      "source": [
        "#Mean square error\n",
        "y_pred = np.dot(X_test,W_min.T)\n",
        "Mean_square_error =  1/len(y_pred) * np.sum((y_pred - y_test)**2)     #Mean square error\n",
        "\n",
        "Mean_abs_error =   1/len(y_pred) * np.sum(np.abs(y_pred - y_test))\n",
        "corr_coff = np.corrcoef(y_pred,y_test) \n",
        "print(\"MSE for SGD with L2 = \",Mean_square_error)\n",
        "print(\"MAE for SGD with L2= \",Mean_abs_error)\n",
        "print(\"CC for SGD with L2 = \",corr_coff[0,1])"
      ],
      "execution_count": 14,
      "outputs": [
        {
          "output_type": "stream",
          "name": "stdout",
          "text": [
            "MSE for SGD with L2 =  0.17657093127011386\n",
            "MAE for SGD with L2=  0.38809203453229507\n",
            "CC for SGD with L2 =  0.728852950682363\n"
          ]
        }
      ]
    },
    {
      "cell_type": "code",
      "metadata": {
        "id": "TbHmrKqVFqSL",
        "colab": {
          "base_uri": "https://localhost:8080/"
        },
        "outputId": "e77e2618-bbb3-4e2a-f930-ecfe66ed4ec0"
      },
      "source": [
        "iters=500\n",
        "#grid search\n",
        "alpha_vals=np.linspace(0.0001,0.001,100)\n",
        "reg_vals=np.linspace(0.1,1,10)\n",
        "train_errors = []\n",
        "W_values = []\n",
        "i=0\n",
        "for alpha in alpha_vals:\n",
        "  for reg in reg_vals:\n",
        "    w= np.zeros((5))\n",
        "    w_SGD,j_his = stochastic_gradient_descent(X_train,y_train,w,alpha,reg,iters)\n",
        "    train_errors.append(j_his)\n",
        "    W_values.append(w_SGD)\n",
        "    i = i+1 \n",
        "\n",
        "#best model\n",
        "min_index = 0\n",
        "for i in range(len(train_errors)):\n",
        "  if(train_errors[i] < train_errors[min_index]):\n",
        "    min_index = i\n",
        "\n",
        "\n",
        "print('optimal w values',W_values[min_index])\n",
        "W_min = W_values[min_index]\n",
        "#Mean square error\n",
        "y_pred = np.dot(X_test,W_min.T)\n",
        "Mean_square_error =  1/len(y_pred) * np.sum((y_pred - y_test)**2)     #Mean square error\n",
        "\n",
        "Mean_abs_error =   1/len(y_pred) * np.sum(np.abs(y_pred - y_test))\n",
        "corr_coff = np.corrcoef(y_pred,y_test) \n",
        "print(\"MSE for SGD with L2 = \",Mean_square_error)\n",
        "print(\"MAE for SGD with L2= \",Mean_abs_error)\n",
        "print(\"CC for SGD with L2 = \",corr_coff[0,1])"
      ],
      "execution_count": 27,
      "outputs": [
        {
          "output_type": "stream",
          "name": "stdout",
          "text": [
            "optimal w values [0.04801007 0.0325622  0.02358152 0.02417115 0.01875058]\n",
            "MSE for SGD with L2 =  0.4988711384427089\n",
            "MAE for SGD with L2=  0.6103949903945742\n",
            "CC for SGD with L2 =  0.7030664551957814\n"
          ]
        }
      ]
    },
    {
      "cell_type": "code",
      "metadata": {
        "id": "Tp5-3VmaqsGb"
      },
      "source": [
        "iters=500\n",
        "#grid search\n",
        "alpha_vals=np.linspace(0.0001,0.001,100)\n",
        "reg_vals=np.linspace(0.1,1,10)\n",
        "train_errors = []\n",
        "W_values = []\n",
        "i=0\n",
        "for alpha in alpha_vals:\n",
        "  for reg in reg_vals:\n",
        "    w= np.zeros((5))\n",
        "    w_MBGD,j_his = MB_gradient_descent(X_train,y_train,w,alpha,reg,iters,30)\n",
        "    train_errors.append(j_his[iters-1])\n",
        "    W_values.append(w_SGD)\n",
        "    i = i+1 \n",
        "\n",
        "#best model\n",
        "min_index = 0\n",
        "for i in range(len(train_errors)):\n",
        "  if(train_errors[i] < train_errors[min_index]):\n",
        "    min_index = i\n",
        "\n",
        "\n",
        "print('optimal w values',W_values[min_index])\n",
        "W_min = W_values[min_index]\n",
        "#Mean square error\n",
        "y_pred = np.dot(X_test,W_min.T)\n",
        "Mean_square_error =  1/len(y_pred) * np.sum((y_pred - y_test)**2)     #Mean square error\n",
        "\n",
        "Mean_abs_error =   1/len(y_pred) * np.sum(np.abs(y_pred - y_test))\n",
        "corr_coff = np.corrcoef(y_pred,y_test) \n",
        "print(\"MSE for MBGD with L2 = \",Mean_square_error)\n",
        "print(\"MAE for MBGD with L2= \",Mean_abs_error)\n",
        "print(\"CC for MBGD with L2 = \",corr_coff[0,1])"
      ],
      "execution_count": null,
      "outputs": []
    }
  ]
}